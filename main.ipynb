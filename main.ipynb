{
  "cells": [
    {
      "cell_type": "code",
      "execution_count": 59,
      "metadata": {
        "id": "aw_XLGtNFPe3"
      },
      "outputs": [],
      "source": [
        "import datetime\n",
        "import numpy as np\n",
        "import os\n",
        "import pandas as pd\n",
        "import shutil\n",
        "import urllib.request\n",
        "import zipfile\n",
        "import time\n",
        "import math\n",
        "import matplotlib.pyplot as plt\n",
        "from functools import wraps\n",
        "from math import trunc\n",
        "from sklearn.metrics import mean_squared_error\n",
        "from numba import jit, cuda"
      ]
    },
    {
      "cell_type": "code",
      "execution_count": 60,
      "metadata": {
        "id": "ZV4MEKIrFPe7"
      },
      "outputs": [],
      "source": [
        "# VARIANTS object defines data configurations for different file sizes.\n",
        "# Each key represents the data size (e.g., \"100k\" for 100 thousand).\n",
        "VARIANTS = {\n",
        "    \"100k\": {\"filename\": \"u.data\", \"sep\": \"\\t\"},\n",
        "    \"1m\": {\"filename\": \"ratings.dat\", \"sep\": r\"::\"},\n",
        "    \"20m\": {\"filename\": \"ratings.csv\", \"sep\": \",\"},\n",
        "    \"32m\": {\"filename\": \"ratings.csv\", \"sep\": \",\"},\n",
        "}"
      ]
    },
    {
      "cell_type": "code",
      "execution_count": 61,
      "metadata": {
        "id": "gMcZPCBiFPe-"
      },
      "outputs": [],
      "source": [
        "# Define the chosen data variant (e.g., \"100k\", \"1m\", \"20m\" or \"32m\")\n",
        "variant = \"20m\""
      ]
    },
    {
      "cell_type": "code",
      "execution_count": 62,
      "metadata": {
        "id": "axOeJLwcFPfA"
      },
      "outputs": [],
      "source": [
        "# Check if the chosen variant is a valid key in the VARIANTS object\n",
        "if variant not in VARIANTS:\n",
        "    # If not valid, raise an error\n",
        "    raise ValueError(\n",
        "        f\"Invalid variant: {variant}. Valid options are {list(VARIANTS.keys())}\"\n",
        "    )"
      ]
    },
    {
      "cell_type": "code",
      "execution_count": 63,
      "metadata": {
        "id": "TM1JFuOOFPfB"
      },
      "outputs": [],
      "source": [
        "# Construct the URL for downloading the data based on the chosen variant\n",
        "url = f\"http://files.grouplens.org/datasets/movielens/ml-{variant}.zip\""
      ]
    },
    {
      "cell_type": "code",
      "execution_count": 64,
      "metadata": {
        "id": "C6kseegJFPfC"
      },
      "outputs": [],
      "source": [
        "# Extract information from the VARIANTS object for the chosen variant\n",
        "variant_info = VARIANTS[variant]\n",
        "\n",
        "# Destructure filename property from the variant information\n",
        "filename = variant_info[\"filename\"]\n",
        "\n",
        "# Construct the directory name based on the variant\n",
        "dirname = f\"ml-{variant}\"\n",
        "\n",
        "# Construct the path to the downloaded zip file\n",
        "zip_path = os.path.join(dirname + \".zip\")"
      ]
    },
    {
      "cell_type": "markdown",
      "metadata": {
        "id": "ZE3vDU6iFPfD"
      },
      "source": [
        "# NHO REMOVE CELL BEN DUOI"
      ]
    },
    {
      "cell_type": "code",
      "execution_count": 65,
      "metadata": {
        "id": "g8SyYWjWFPfF"
      },
      "outputs": [],
      "source": [
        "# proxy_url = \"http://26.26.26.1:10809\"\n",
        "\n",
        "# proxy_support = urllib.request.ProxyHandler({\"http\": proxy_url})\n",
        "\n",
        "# opener = urllib.request.build_opener(proxy_support)\n",
        "\n",
        "# urllib.request.install_opener(opener)"
      ]
    },
    {
      "cell_type": "code",
      "execution_count": 66,
      "metadata": {
        "id": "w5bkdw6xFPfH"
      },
      "outputs": [],
      "source": [
        "# Download the data from the URL and save it to the zip_path\n",
        "with urllib.request.urlopen(url) as r, open(zip_path, \"wb\") as f:\n",
        "    # Copy the downloaded data from the response to the file\n",
        "    shutil.copyfileobj(r, f)"
      ]
    },
    {
      "cell_type": "code",
      "execution_count": 67,
      "metadata": {
        "id": "l3G55iOVFPfL"
      },
      "outputs": [],
      "source": [
        "# Extract the data from the downloaded zip file\n",
        "with zipfile.ZipFile(zip_path, \"r\") as zf:\n",
        "    # Extract all files from the zip archive to the current directory\n",
        "    zf.extractall()"
      ]
    },
    {
      "cell_type": "code",
      "execution_count": 68,
      "metadata": {
        "id": "I1URhWdTFPfN"
      },
      "outputs": [],
      "source": [
        "# Remove zip file after extraction (optional)\n",
        "os.remove(zip_path)"
      ]
    },
    {
      "cell_type": "code",
      "execution_count": 69,
      "metadata": {
        "id": "HIYBHKaMFPfP"
      },
      "outputs": [],
      "source": [
        "# Construct the path to the CSV file\n",
        "csv_path = os.path.join(dirname, filename)\n",
        "\n",
        "# Define the column names for the data\n",
        "names = [\"u_id\", \"i_id\", \"rating\", \"timestamp\"]\n",
        "\n",
        "# Define data type for each column\n",
        "dtype = {\"u_id\": np.uint32, \"i_id\": np.uint32, \"rating\": np.float64}"
      ]
    },
    {
      "cell_type": "code",
      "execution_count": 70,
      "metadata": {
        "id": "KLWY47xvFPfP"
      },
      "outputs": [],
      "source": [
        "# Read the CSV data into a Pandas DataFrame\n",
        "df = pd.read_csv(\n",
        "    csv_path,\n",
        "    names=names,\n",
        "    dtype=dtype,\n",
        "    header=0,\n",
        "    sep=VARIANTS[variant][\"sep\"],\n",
        ")"
      ]
    },
    {
      "cell_type": "code",
      "execution_count": 71,
      "metadata": {
        "id": "fDP3RxAXFPfP"
      },
      "outputs": [],
      "source": [
        "# Drop the \"timestamp\" column from the DataFrame\n",
        "df.drop(\"timestamp\", inplace=True, axis=1)\n",
        "\n",
        "# Sort the DataFrame by the \"u_id\" column (assuming user IDs)\n",
        "df.sort_values(by=\"u_id\", inplace=True)\n",
        "\n",
        "# Reset the index after sorting (optional, keeps row numbers aligned with data)\n",
        "df.reset_index(drop=True, inplace=True)"
      ]
    },
    {
      "cell_type": "code",
      "execution_count": 72,
      "metadata": {
        "id": "EH7u1fYxFPfQ"
      },
      "outputs": [],
      "source": [
        "# Randomly sample 80% for training set\n",
        "train = df.sample(frac=0.8, random_state=7)\n",
        "\n",
        "# Sample 50% from remaining for validation\n",
        "val = df.drop(train.index.tolist()).sample(frac=0.5, random_state=8)\n",
        "\n",
        "# Remaining data becomes test set\n",
        "test = df.drop(train.index.tolist()).drop(val.index.tolist())"
      ]
    },
    {
      "cell_type": "code",
      "execution_count": 73,
      "metadata": {
        "id": "0qX8AY8GFPfR"
      },
      "outputs": [],
      "source": [
        "@jit(cache=True)\n",
        "def shuffle(X):\n",
        "    np.random.shuffle(X)\n",
        "    return X"
      ]
    },
    {
      "cell_type": "code",
      "execution_count": 74,
      "metadata": {
        "id": "wDUB3USXFPfS"
      },
      "outputs": [],
      "source": [
        "@jit(cache=True)\n",
        "def initialization(n_users, n_items, n_factors):\n",
        "    # Initialize user biases with zeros (n_users length)\n",
        "    bu = np.zeros(n_users)\n",
        "\n",
        "    # Initialize item biases with zeros (n_items length)\n",
        "    bi = np.zeros(n_items)\n",
        "\n",
        "    # Random user factors (normal distribution, mean 0, std 0.1)\n",
        "    pu = np.random.normal(0, 0.1, (n_users, n_factors))\n",
        "\n",
        "    # Random item factors (normal distribution, mean 0, std 0.1)\n",
        "    qi = np.random.normal(0, 0.1, (n_items, n_factors))\n",
        "\n",
        "    return bu, bi, pu, qi"
      ]
    },
    {
      "cell_type": "code",
      "execution_count": 75,
      "metadata": {
        "id": "hofqo84m87Tc"
      },
      "outputs": [],
      "source": [
        "@jit(cache=True)\n",
        "def run_epoch_cpu(X, bu, bi, pu, qi, global_mean, n_factors, lr, reg):\n",
        "    # Loop through each rating in the data matrix X\n",
        "    for i in range(X.shape[0]):\n",
        "        # Extract user ID, item ID, and rating from current row\n",
        "        user, item, rating = int(X[i, 0]), int(X[i, 1]), X[i, 2]\n",
        "\n",
        "        # Predict current rating\n",
        "        pred = global_mean + bu[user] + bi[item]\n",
        "        for factor in range(n_factors):\n",
        "            pred += pu[user, factor] * qi[item, factor]\n",
        "\n",
        "        # Calculate the error between predicted and actual rating\n",
        "        err = rating - pred\n",
        "\n",
        "        # Update user and item biases with learning rate (lr) and regularization (reg)\n",
        "        bu[user] += lr * (err - reg * bu[user])\n",
        "        bi[item] += lr * (err - reg * bi[item])\n",
        "\n",
        "        # Update user and item latent factors for all factors (n_factors)\n",
        "        for factor in range(n_factors):\n",
        "            puf = pu[user, factor]\n",
        "            qif = qi[item, factor]\n",
        "\n",
        "            pu[user, factor] += lr * (err * qif - reg * puf)\n",
        "            qi[item, factor] += lr * (err * puf - reg * qif)\n",
        "\n",
        "    return bu, bi, pu, qi\n"
      ]
    },
    {
      "cell_type": "code",
      "execution_count": 76,
      "metadata": {
        "id": "7fStP-PWFPfS"
      },
      "outputs": [],
      "source": [
        "@cuda.jit\n",
        "def run_epoch_gpu(X, bu, bi, pu, qi, global_mean, n_factors, lr, reg):\n",
        "    c = cuda.blockIdx.x * cuda.blockDim.x + cuda.threadIdx.x\n",
        "\n",
        "    # Loop through each rating in the data matrix X\n",
        "    if c < X.shape[0]:\n",
        "        # Extract user ID, item ID, and rating from current row\n",
        "        user, item, rating = int(X[c, 0]), int(X[c, 1]), X[c, 2]\n",
        "\n",
        "        # Predict current rating\n",
        "        pred = global_mean + bu[user] + bi[item]\n",
        "        for factor in range(n_factors):\n",
        "            pred += pu[user, factor] * qi[item, factor]\n",
        "\n",
        "        # Calculate the error between predicted and actual rating\n",
        "        err = rating - pred\n",
        "\n",
        "        # Update user and item biases with learning rate (lr) and regularization (reg)\n",
        "        bu[user] += lr * (err - reg * bu[user])\n",
        "        bi[item] += lr * (err - reg * bi[item])\n",
        "\n",
        "        # Update user and item latent factors for all factors (n_factors)\n",
        "        for factor in range(n_factors):\n",
        "            puf = pu[user, factor]\n",
        "            qif = qi[item, factor]\n",
        "\n",
        "            pu[user, factor] += lr * (err * qif - reg * puf)\n",
        "            qi[item, factor] += lr * (err * puf - reg * qif)\n"
      ]
    },
    {
      "cell_type": "code",
      "execution_count": 77,
      "metadata": {
        "id": "GfJvaolmFPfT"
      },
      "outputs": [],
      "source": [
        "@jit(cache=True)\n",
        "def compute_val_metrics(X_val, bu, bi, pu, qi, global_mean, n_factors):\n",
        "    residuals = []\n",
        "\n",
        "    for i in range(X_val.shape[0]):\n",
        "        user, item, rating = int(X_val[i, 0]), int(X_val[i, 1]), X_val[i, 2]\n",
        "\n",
        "        pred = global_mean\n",
        "\n",
        "        if user > -1:\n",
        "            pred += bu[user]\n",
        "\n",
        "        if item > -1:\n",
        "            pred += bi[item]\n",
        "\n",
        "        if (user > -1) and (item > -1):\n",
        "            for factor in range(n_factors):\n",
        "                pred += pu[user, factor] * qi[item, factor]\n",
        "\n",
        "        residuals.append(rating - pred)\n",
        "\n",
        "    residuals = np.array(residuals)\n",
        "    loss = np.square(residuals).mean()\n",
        "    rmse = np.sqrt(loss)\n",
        "    mae = np.absolute(residuals).mean()\n",
        "\n",
        "    return loss, rmse, mae"
      ]
    },
    {
      "cell_type": "code",
      "execution_count": 78,
      "metadata": {
        "id": "NGWhEWCSFPfU"
      },
      "outputs": [],
      "source": [
        "class bcolors:\n",
        "    GREEN = \"\\033[92m\"\n",
        "    YELLOW = \"\\033[93m\"\n",
        "    RED = \"\\033[91m\"\n",
        "    ENDC = \"\\033[0m\""
      ]
    },
    {
      "cell_type": "code",
      "execution_count": 79,
      "metadata": {
        "id": "EqbTxx8OFPfU"
      },
      "outputs": [],
      "source": [
        "class SVD:\n",
        "    def __init__(\n",
        "        self,\n",
        "        lr=0.005,\n",
        "        reg=0.02,\n",
        "        n_epochs=20,\n",
        "        n_factors=100,\n",
        "        early_stopping=True,\n",
        "        min_delta=0.001,\n",
        "        min_rating=1,\n",
        "        max_rating=5,\n",
        "        parallel=True\n",
        "    ):\n",
        "\n",
        "        self.lr = lr\n",
        "        self.reg = reg\n",
        "        self.n_epochs = n_epochs\n",
        "        self.n_factors = n_factors\n",
        "        self.early_stopping = early_stopping\n",
        "        self.shuffle = shuffle\n",
        "        self.min_delta = min_delta\n",
        "        self.min_rating = min_rating\n",
        "        self.max_rating = max_rating\n",
        "        self.parallel = parallel\n",
        "        self.log = []\n",
        "\n",
        "    def fit(self, X, X_val=None):\n",
        "        # Preprocess the training data\n",
        "        X = self.preprocess_data(X)\n",
        "\n",
        "        # Check if validation data is provided\n",
        "        if X_val is not None:\n",
        "            # Preprocess the validation data\n",
        "            X_val = self.preprocess_data(X_val, train=False)\n",
        "            # Initialize metrics for evaluation\n",
        "            self.init_metrics()\n",
        "\n",
        "        # Calculate the global mean of the rating feature\n",
        "        self.global_mean_ = np.mean(X[:, 2])\n",
        "\n",
        "        # Run the Stochastic Gradient Descent (SGD) algorithm\n",
        "        self.run_sgd(X, X_val)\n",
        "\n",
        "        return self\n",
        "\n",
        "    def preprocess_data(self, X, train=True):\n",
        "        # Copy the data to avoid modifying the original DataFrame\n",
        "        X = X.copy()\n",
        "\n",
        "        # Mappings are only needed during training\n",
        "        if train:\n",
        "            # Create unique mappings for user and item IDs (if training)\n",
        "            user_ids = X[\"u_id\"].unique().tolist()\n",
        "            item_ids = X[\"i_id\"].unique().tolist()\n",
        "\n",
        "            n_users = len(user_ids)\n",
        "            n_items = len(item_ids)\n",
        "\n",
        "            user_idx = range(n_users)\n",
        "            item_idx = range(n_items)\n",
        "\n",
        "            self.user_mapping_ = dict(zip(user_ids, user_idx))\n",
        "            self.item_mapping_ = dict(zip(item_ids, item_idx))\n",
        "\n",
        "        # Replace user and item IDs with their corresponding indices in the mappings\n",
        "        X[\"u_id\"] = X[\"u_id\"].map(self.user_mapping_)\n",
        "        X[\"i_id\"] = X[\"i_id\"].map(self.item_mapping_)\n",
        "\n",
        "        # Tag unseen users/items in validation data with -1 (for handling unknown entries)\n",
        "        X.fillna(-1, inplace=True)\n",
        "\n",
        "        X[\"u_id\"] = X[\"u_id\"].astype(np.int32)\n",
        "        X[\"i_id\"] = X[\"i_id\"].astype(np.int32)\n",
        "\n",
        "        return X[[\"u_id\", \"i_id\", \"rating\"]].values\n",
        "\n",
        "    def init_metrics(self):\n",
        "        # Initialize empty metrics array with zeros\n",
        "        metrics = np.zeros((self.n_epochs, 3), dtype=float)\n",
        "\n",
        "        # Create a pandas DataFrame from the metrics array\n",
        "        self.metrics_ = pd.DataFrame(metrics, columns=[\"Loss\", \"RMSE\", \"MAE\"])\n",
        "\n",
        "    def run_sgd(self, X, X_val):\n",
        "        # Get number of unique users\n",
        "        n_users = len(np.unique(X[:, 0]))\n",
        "\n",
        "        # Get number of unique items\n",
        "        n_items = len(np.unique(X[:, 1]))\n",
        "\n",
        "        # Initialize model parameters\n",
        "        bu, bi, pu, qi = initialization(n_users, n_items, self.n_factors)\n",
        "\n",
        "        # Run SGD for specified number of epochs\n",
        "        for epoch_ix in range(self.n_epochs):\n",
        "            start = self.on_epoch_begin(epoch_ix)\n",
        "\n",
        "            if not self.parallel:\n",
        "              X = shuffle(X)\n",
        "\n",
        "              # Update model parameters using run_epoch function\n",
        "              run_epoch_cpu(\n",
        "                X, bu, bi, pu, qi, self.global_mean_, self.n_factors, self.lr, self.reg\n",
        "              )\n",
        "            else:\n",
        "              block_size = 32\n",
        "              grid_size = math.ceil(X.shape[0] / block_size)\n",
        "\n",
        "              # Update model parameters using run_epoch function\n",
        "              run_epoch_gpu[grid_size, block_size](\n",
        "                  X, bu, bi, pu, qi, self.global_mean_, self.n_factors, self.lr, self.reg\n",
        "              )\n",
        "\n",
        "            if X_val is not None:\n",
        "                # Compute validation metrics if validation data provided\n",
        "                self.metrics_.loc[epoch_ix, :] = compute_val_metrics(\n",
        "                    X_val, bu, bi, pu, qi, self.global_mean_, self.n_factors\n",
        "                )\n",
        "                self.on_epoch_end(\n",
        "                    start,\n",
        "                    self.metrics_.loc[epoch_ix, \"Loss\"],\n",
        "                    self.metrics_.loc[epoch_ix, \"RMSE\"],\n",
        "                    self.metrics_.loc[epoch_ix, \"MAE\"],\n",
        "                )\n",
        "\n",
        "                self.log.append(self.metrics_.loc[epoch_ix, \"RMSE\"])\n",
        "\n",
        "                if self.early_stopping:\n",
        "                    val_rmse = self.metrics_[\"RMSE\"].tolist()\n",
        "                    if self.check_early_stopping(val_rmse, epoch_ix, self.min_delta):\n",
        "                        break\n",
        "\n",
        "            else:\n",
        "                self.on_epoch_end(start)\n",
        "\n",
        "        # Update internal model parameters with learned values\n",
        "        self.bu_ = bu\n",
        "        self.bi_ = bi\n",
        "        self.pu_ = pu\n",
        "        self.qi_ = qi\n",
        "\n",
        "    def predict(self, X, clip=True):\n",
        "        # Generate predictions for each user-item pair in X\n",
        "        return [\n",
        "            self.predict_pair(u_id, i_id, clip)\n",
        "            for u_id, i_id in zip(X[\"u_id\"], X[\"i_id\"])\n",
        "        ]\n",
        "\n",
        "    def predict_pair(self, u_id, i_id, clip=True):\n",
        "        # Initialize flags indicating if user and item are known\n",
        "        user_known, item_known = False, False\n",
        "\n",
        "        # Start prediction with global mean rating\n",
        "        pred = self.global_mean_\n",
        "\n",
        "        # Check if user ID exists in user mapping\n",
        "        if u_id in self.user_mapping_:\n",
        "            user_known = True\n",
        "            # Get user index\n",
        "            u_ix = self.user_mapping_[u_id]\n",
        "            # Add user bias\n",
        "            pred += self.bu_[u_ix]\n",
        "\n",
        "        # Check if item ID exists in item mapping\n",
        "        if i_id in self.item_mapping_:\n",
        "            item_known = True\n",
        "            # Get user index\n",
        "            i_ix = self.item_mapping_[i_id]\n",
        "            # Add user bias\n",
        "            pred += self.bi_[i_ix]\n",
        "\n",
        "        # If both user and item are known, add user-item interaction component\n",
        "        if user_known and item_known:\n",
        "            pred += np.dot(self.pu_[u_ix], self.qi_[i_ix])\n",
        "\n",
        "        # Clip the predicted rating to the defined range (if clip is True)\n",
        "        if clip:\n",
        "            pred = self.max_rating if pred > self.max_rating else pred\n",
        "            pred = self.min_rating if pred < self.min_rating else pred\n",
        "\n",
        "        return pred\n",
        "\n",
        "    def check_early_stopping(self, val_rmse, epoch_idx, min_delta):\n",
        "        if epoch_idx > 0:\n",
        "            # Check if validation RMSE has worsened by more than min_delta\n",
        "            if val_rmse[epoch_idx] + min_delta > val_rmse[epoch_idx - 1]:\n",
        "                # Update metrics DataFrame up to the current epoch\n",
        "                self.metrics_ = self.metrics_.loc[: (epoch_idx + 1), :]\n",
        "                return True\n",
        "        return False\n",
        "\n",
        "    def on_epoch_begin(self, epoch_ix):\n",
        "        start = time.time()\n",
        "        end = \"  | \" if epoch_ix < 9 else \" | \"\n",
        "        print(\n",
        "            f\"{bcolors.YELLOW}[EPOCH]:{bcolors.ENDC} {epoch_ix + 1}/{self.n_epochs}\",\n",
        "            end=end,\n",
        "        )\n",
        "\n",
        "        return start\n",
        "\n",
        "    def on_epoch_end(self, start, val_loss=None, val_rmse=None, val_mae=None):\n",
        "        end = time.time()\n",
        "\n",
        "        if val_loss is not None:\n",
        "            print(f\"[VAL_LOSS]: {val_loss:.2f}\", end=\" - \")\n",
        "            print(f\"[VAL_RMSE]: {val_rmse:.2f}\", end=\" - \")\n",
        "            print(f\"[VAL_MAE]: {val_mae:.2f}\", end=\" | \")\n",
        "\n",
        "        print(f\"{bcolors.GREEN}[TIME]:{bcolors.ENDC} {end - start:.2f} s\")"
      ]
    },
    {
      "cell_type": "code",
      "execution_count": 80,
      "metadata": {
        "colab": {
          "base_uri": "https://localhost:8080/"
        },
        "id": "e0kC1w2dFPfV",
        "outputId": "f76f5f8e-0ec4-40db-9699-a7ad3936219a"
      },
      "outputs": [
        {
          "name": "stdout",
          "output_type": "stream",
          "text": [
            "\u001b[93m[EPOCH]:\u001b[0m 1/50  | "
          ]
        },
        {
          "name": "stderr",
          "output_type": "stream",
          "text": [
            "/usr/local/lib/python3.10/dist-packages/numba/cuda/cudadrv/devicearray.py:888: NumbaPerformanceWarning: Host array used in CUDA kernel will incur copy overhead to/from device.\n",
            "  warn(NumbaPerformanceWarning(msg))\n"
          ]
        },
        {
          "name": "stdout",
          "output_type": "stream",
          "text": [
            "[VAL_LOSS]: 0.85 - [VAL_RMSE]: 0.92 - [VAL_MAE]: 0.71 | \u001b[92m[TIME]:\u001b[0m 1.78 s\n",
            "\u001b[93m[EPOCH]:\u001b[0m 2/50  | "
          ]
        },
        {
          "name": "stderr",
          "output_type": "stream",
          "text": [
            "/usr/local/lib/python3.10/dist-packages/numba/cuda/cudadrv/devicearray.py:888: NumbaPerformanceWarning: Host array used in CUDA kernel will incur copy overhead to/from device.\n",
            "  warn(NumbaPerformanceWarning(msg))\n"
          ]
        },
        {
          "name": "stdout",
          "output_type": "stream",
          "text": [
            "[VAL_LOSS]: 0.81 - [VAL_RMSE]: 0.90 - [VAL_MAE]: 0.70 | \u001b[92m[TIME]:\u001b[0m 0.77 s\n",
            "\u001b[93m[EPOCH]:\u001b[0m 3/50  | [VAL_LOSS]: 0.79 - [VAL_RMSE]: 0.89 - [VAL_MAE]: 0.69 | \u001b[92m[TIME]:\u001b[0m 0.80 s\n",
            "\u001b[93m[EPOCH]:\u001b[0m 4/50  | [VAL_LOSS]: 0.78 - [VAL_RMSE]: 0.88 - [VAL_MAE]: 0.68 | \u001b[92m[TIME]:\u001b[0m 0.78 s\n",
            "\u001b[93m[EPOCH]:\u001b[0m 5/50  | [VAL_LOSS]: 0.77 - [VAL_RMSE]: 0.88 - [VAL_MAE]: 0.68 | \u001b[92m[TIME]:\u001b[0m 0.78 s\n",
            "\u001b[93m[EPOCH]:\u001b[0m 6/50  | [VAL_LOSS]: 0.77 - [VAL_RMSE]: 0.88 - [VAL_MAE]: 0.67 | \u001b[92m[TIME]:\u001b[0m 0.79 s\n",
            "\u001b[93m[EPOCH]:\u001b[0m 7/50  | [VAL_LOSS]: 0.76 - [VAL_RMSE]: 0.87 - [VAL_MAE]: 0.67 | \u001b[92m[TIME]:\u001b[0m 0.75 s\n",
            "\u001b[93m[EPOCH]:\u001b[0m 8/50  | [VAL_LOSS]: 0.76 - [VAL_RMSE]: 0.87 - [VAL_MAE]: 0.67 | \u001b[92m[TIME]:\u001b[0m 0.65 s\n",
            "\u001b[93m[EPOCH]:\u001b[0m 9/50  | [VAL_LOSS]: 0.76 - [VAL_RMSE]: 0.87 - [VAL_MAE]: 0.67 | \u001b[92m[TIME]:\u001b[0m 0.66 s\n",
            "\u001b[93m[EPOCH]:\u001b[0m 10/50 | [VAL_LOSS]: 0.75 - [VAL_RMSE]: 0.87 - [VAL_MAE]: 0.67 | \u001b[92m[TIME]:\u001b[0m 0.64 s\n",
            "\u001b[93m[EPOCH]:\u001b[0m 11/50 | [VAL_LOSS]: 0.75 - [VAL_RMSE]: 0.87 - [VAL_MAE]: 0.67 | \u001b[92m[TIME]:\u001b[0m 0.64 s\n",
            "\u001b[93m[EPOCH]:\u001b[0m 12/50 | [VAL_LOSS]: 0.75 - [VAL_RMSE]: 0.87 - [VAL_MAE]: 0.67 | \u001b[92m[TIME]:\u001b[0m 0.65 s\n",
            "\u001b[93m[EPOCH]:\u001b[0m 13/50 | [VAL_LOSS]: 0.75 - [VAL_RMSE]: 0.86 - [VAL_MAE]: 0.66 | \u001b[92m[TIME]:\u001b[0m 0.64 s\n",
            "\u001b[93m[EPOCH]:\u001b[0m 14/50 | [VAL_LOSS]: 0.74 - [VAL_RMSE]: 0.86 - [VAL_MAE]: 0.66 | \u001b[92m[TIME]:\u001b[0m 0.66 s\n",
            "\u001b[93m[EPOCH]:\u001b[0m 15/50 | [VAL_LOSS]: 0.74 - [VAL_RMSE]: 0.86 - [VAL_MAE]: 0.66 | \u001b[92m[TIME]:\u001b[0m 0.65 s\n",
            "\u001b[93m[EPOCH]:\u001b[0m 16/50 | [VAL_LOSS]: 0.74 - [VAL_RMSE]: 0.86 - [VAL_MAE]: 0.66 | \u001b[92m[TIME]:\u001b[0m 0.66 s\n",
            "\u001b[93m[EPOCH]:\u001b[0m 17/50 | [VAL_LOSS]: 0.73 - [VAL_RMSE]: 0.86 - [VAL_MAE]: 0.66 | \u001b[92m[TIME]:\u001b[0m 0.66 s\n",
            "\u001b[93m[EPOCH]:\u001b[0m 18/50 | [VAL_LOSS]: 0.73 - [VAL_RMSE]: 0.85 - [VAL_MAE]: 0.66 | \u001b[92m[TIME]:\u001b[0m 0.66 s\n",
            "\u001b[93m[EPOCH]:\u001b[0m 19/50 | [VAL_LOSS]: 0.72 - [VAL_RMSE]: 0.85 - [VAL_MAE]: 0.65 | \u001b[92m[TIME]:\u001b[0m 0.64 s\n",
            "\u001b[93m[EPOCH]:\u001b[0m 20/50 | [VAL_LOSS]: 0.72 - [VAL_RMSE]: 0.85 - [VAL_MAE]: 0.65 | \u001b[92m[TIME]:\u001b[0m 0.66 s\n",
            "\u001b[93m[EPOCH]:\u001b[0m 21/50 | [VAL_LOSS]: 0.71 - [VAL_RMSE]: 0.85 - [VAL_MAE]: 0.65 | \u001b[92m[TIME]:\u001b[0m 0.65 s\n",
            "\u001b[93m[EPOCH]:\u001b[0m 22/50 | [VAL_LOSS]: 0.71 - [VAL_RMSE]: 0.84 - [VAL_MAE]: 0.65 | \u001b[92m[TIME]:\u001b[0m 0.66 s\n",
            "\u001b[93m[EPOCH]:\u001b[0m 23/50 | [VAL_LOSS]: 0.71 - [VAL_RMSE]: 0.84 - [VAL_MAE]: 0.64 | \u001b[92m[TIME]:\u001b[0m 0.71 s\n",
            "\u001b[93m[EPOCH]:\u001b[0m 24/50 | [VAL_LOSS]: 0.70 - [VAL_RMSE]: 0.84 - [VAL_MAE]: 0.64 | \u001b[92m[TIME]:\u001b[0m 0.72 s\n",
            "\u001b[93m[EPOCH]:\u001b[0m 25/50 | [VAL_LOSS]: 0.70 - [VAL_RMSE]: 0.84 - [VAL_MAE]: 0.64 | \u001b[92m[TIME]:\u001b[0m 0.71 s\n",
            "\u001b[93m[EPOCH]:\u001b[0m 26/50 | [VAL_LOSS]: 0.69 - [VAL_RMSE]: 0.83 - [VAL_MAE]: 0.64 | \u001b[92m[TIME]:\u001b[0m 0.76 s\n",
            "\u001b[93m[EPOCH]:\u001b[0m 27/50 | [VAL_LOSS]: 0.69 - [VAL_RMSE]: 0.83 - [VAL_MAE]: 0.64 | \u001b[92m[TIME]:\u001b[0m 0.78 s\n",
            "\u001b[93m[EPOCH]:\u001b[0m 28/50 | [VAL_LOSS]: 0.69 - [VAL_RMSE]: 0.83 - [VAL_MAE]: 0.64 | \u001b[92m[TIME]:\u001b[0m 0.75 s\n",
            "\u001b[93m[EPOCH]:\u001b[0m 29/50 | [VAL_LOSS]: 0.68 - [VAL_RMSE]: 0.83 - [VAL_MAE]: 0.63 | \u001b[92m[TIME]:\u001b[0m 0.76 s\n",
            "\u001b[93m[EPOCH]:\u001b[0m 30/50 | [VAL_LOSS]: 0.68 - [VAL_RMSE]: 0.83 - [VAL_MAE]: 0.63 | \u001b[92m[TIME]:\u001b[0m 0.75 s\n",
            "\u001b[93m[EPOCH]:\u001b[0m 31/50 | [VAL_LOSS]: 0.68 - [VAL_RMSE]: 0.82 - [VAL_MAE]: 0.63 | \u001b[92m[TIME]:\u001b[0m 0.78 s\n",
            "\u001b[93m[EPOCH]:\u001b[0m 32/50 | [VAL_LOSS]: 0.68 - [VAL_RMSE]: 0.82 - [VAL_MAE]: 0.63 | \u001b[92m[TIME]:\u001b[0m 0.73 s\n",
            "\u001b[93m[EPOCH]:\u001b[0m 33/50 | [VAL_LOSS]: 0.67 - [VAL_RMSE]: 0.82 - [VAL_MAE]: 0.63 | \u001b[92m[TIME]:\u001b[0m 0.67 s\n",
            "\u001b[93m[EPOCH]:\u001b[0m 34/50 | [VAL_LOSS]: 0.67 - [VAL_RMSE]: 0.82 - [VAL_MAE]: 0.63 | \u001b[92m[TIME]:\u001b[0m 0.65 s\n",
            "\u001b[93m[EPOCH]:\u001b[0m 35/50 | [VAL_LOSS]: 0.67 - [VAL_RMSE]: 0.82 - [VAL_MAE]: 0.63 | \u001b[92m[TIME]:\u001b[0m 0.65 s\n",
            "\u001b[93m[EPOCH]:\u001b[0m 36/50 | [VAL_LOSS]: 0.67 - [VAL_RMSE]: 0.82 - [VAL_MAE]: 0.62 | \u001b[92m[TIME]:\u001b[0m 0.65 s\n",
            "\u001b[93m[EPOCH]:\u001b[0m 37/50 | [VAL_LOSS]: 0.66 - [VAL_RMSE]: 0.81 - [VAL_MAE]: 0.62 | \u001b[92m[TIME]:\u001b[0m 0.65 s\n",
            "\u001b[93m[EPOCH]:\u001b[0m 38/50 | [VAL_LOSS]: 0.66 - [VAL_RMSE]: 0.81 - [VAL_MAE]: 0.62 | \u001b[92m[TIME]:\u001b[0m 0.66 s\n",
            "\u001b[93m[EPOCH]:\u001b[0m 39/50 | [VAL_LOSS]: 0.66 - [VAL_RMSE]: 0.81 - [VAL_MAE]: 0.62 | \u001b[92m[TIME]:\u001b[0m 0.64 s\n",
            "\u001b[93m[EPOCH]:\u001b[0m 40/50 | [VAL_LOSS]: 0.66 - [VAL_RMSE]: 0.81 - [VAL_MAE]: 0.62 | \u001b[92m[TIME]:\u001b[0m 0.65 s\n",
            "\u001b[93m[EPOCH]:\u001b[0m 41/50 | [VAL_LOSS]: 0.65 - [VAL_RMSE]: 0.81 - [VAL_MAE]: 0.62 | \u001b[92m[TIME]:\u001b[0m 0.66 s\n",
            "\u001b[93m[EPOCH]:\u001b[0m 42/50 | [VAL_LOSS]: 0.65 - [VAL_RMSE]: 0.81 - [VAL_MAE]: 0.62 | \u001b[92m[TIME]:\u001b[0m 0.67 s\n",
            "\u001b[93m[EPOCH]:\u001b[0m 43/50 | [VAL_LOSS]: 0.65 - [VAL_RMSE]: 0.81 - [VAL_MAE]: 0.62 | \u001b[92m[TIME]:\u001b[0m 0.65 s\n",
            "\u001b[93m[EPOCH]:\u001b[0m 44/50 | [VAL_LOSS]: 0.65 - [VAL_RMSE]: 0.81 - [VAL_MAE]: 0.62 | \u001b[92m[TIME]:\u001b[0m 0.66 s\n",
            "\u001b[93m[EPOCH]:\u001b[0m 45/50 | [VAL_LOSS]: 0.65 - [VAL_RMSE]: 0.80 - [VAL_MAE]: 0.61 | \u001b[92m[TIME]:\u001b[0m 0.67 s\n",
            "\u001b[93m[EPOCH]:\u001b[0m 46/50 | [VAL_LOSS]: 0.65 - [VAL_RMSE]: 0.80 - [VAL_MAE]: 0.61 | \u001b[92m[TIME]:\u001b[0m 0.65 s\n",
            "\n",
            "\u001b[91m[PROCESSING TIME]:\u001b[0m 36.12 s\n"
          ]
        }
      ],
      "source": [
        "svd = SVD(\n",
        "    lr=0.001,\n",
        "    reg=0.005,\n",
        "    n_epochs=50,\n",
        "    n_factors=25,\n",
        "    early_stopping=True,\n",
        "    min_rating=1,\n",
        "    max_rating=5,\n",
        "    parallel=True\n",
        ")\n",
        "\n",
        "start = time.time()\n",
        "svd.fit(X=train, X_val=val)\n",
        "end = time.time()\n",
        "\n",
        "print(f\"\\n{bcolors.RED}[PROCESSING TIME]:{bcolors.ENDC} {end - start:.2f} s\")"
      ]
    },
    {
      "cell_type": "code",
      "execution_count": 81,
      "metadata": {
        "id": "a_Y-7r9xFPfW"
      },
      "outputs": [],
      "source": [
        "pred = svd.predict(test)"
      ]
    },
    {
      "cell_type": "code",
      "execution_count": 82,
      "metadata": {
        "colab": {
          "base_uri": "https://localhost:8080/"
        },
        "id": "tvBhiAxQFPfX",
        "outputId": "14be6091-f877-4f24-de2f-3122e02d4020"
      },
      "outputs": [
        {
          "name": "stdout",
          "output_type": "stream",
          "text": [
            "\n",
            "\u001b[91m[TEST RMSE]:\u001b[0m 0.80\n"
          ]
        }
      ],
      "source": [
        "rmse = mean_squared_error(test[\"rating\"], pred, squared = False)\n",
        "print(f\"\\n{bcolors.RED}[TEST RMSE]:{bcolors.ENDC} {rmse:.2f}\")"
      ]
    },
    {
      "cell_type": "code",
      "execution_count": 83,
      "metadata": {
        "colab": {
          "base_uri": "https://localhost:8080/",
          "height": 449
        },
        "id": "cFqV4B7vKyjk",
        "outputId": "8824e816-f7f7-467d-cf1d-97f255462219"
      },
      "outputs": [
        {
          "data": {
            "image/png": "[encoded data removed]",
            "text/plain": [
              "<Figure size 640x480 with 1 Axes>"
            ]
          },
          "metadata": {},
          "output_type": "display_data"
        }
      ],
      "source": [
        "# Create epoch values\n",
        "epochs = np.arange(1, len(svd.log) + 1)\n",
        "\n",
        "# Plot the data\n",
        "plt.plot(epochs, svd.log, color='r', label='RMSE')\n",
        "\n",
        "# Customize x and y labels\n",
        "plt.xlabel(\"Epoch\")\n",
        "plt.ylabel(\"RMSE\")\n",
        "\n",
        "# Add a legend\n",
        "plt.legend()\n",
        "\n",
        "# Show the plot\n",
        "plt.show()"
      ]
    }
  ],
  "metadata": {
    "accelerator": "GPU",
    "colab": {
      "gpuType": "T4",
      "provenance": []
    },
    "kernelspec": {
      "display_name": "Python 3",
      "name": "python3"
    },
    "language_info": {
      "codemirror_mode": {
        "name": "ipython",
        "version": 3
      },
      "file_extension": ".py",
      "mimetype": "text/x-python",
      "name": "python",
      "nbconvert_exporter": "python",
      "pygments_lexer": "ipython3",
      "version": "3.12.4"
    }
  },
  "nbformat": 4,
  "nbformat_minor": 0
}
