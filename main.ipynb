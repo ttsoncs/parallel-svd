{
 "cells": [
  {
   "cell_type": "markdown",
   "metadata": {},
   "source": [
    "### TRINH THE SON - 20127617"
   ]
  },
  {
   "cell_type": "code",
   "execution_count": 2,
   "metadata": {},
   "outputs": [],
   "source": [
    "import datetime\n",
    "import numpy as np\n",
    "import os\n",
    "import pandas as pd\n",
    "import shutil\n",
    "import urllib.request\n",
    "import zipfile"
   ]
  },
  {
   "cell_type": "code",
   "execution_count": 1,
   "metadata": {},
   "outputs": [],
   "source": [
    "VARIANTS = {\n",
    "    \"100k\": {\"filename\": \"u.data\", \"sep\": \"\\t\"},\n",
    "    \"1m\": {\"filename\": \"ratings.dat\", \"sep\": r\"::\"},\n",
    "    \"20m\": {\"filename\": \"ratings.csv\", \"sep\": \",\"},\n",
    "}"
   ]
  },
  {
   "cell_type": "code",
   "execution_count": 7,
   "metadata": {},
   "outputs": [],
   "source": [
    "variant = \"100k\"\n",
    "\n",
    "if variant not in VARIANTS:\n",
    "    raise ValueError(\n",
    "        f\"Invalid variant: {variant}. Valid options are {list(VARIANTS.keys())}\"\n",
    "    )"
   ]
  },
  {
   "cell_type": "code",
   "execution_count": 10,
   "metadata": {},
   "outputs": [],
   "source": [
    "url = f\"http://files.grouplens.org/datasets/movielens/ml-{variant}.zip\""
   ]
  },
  {
   "cell_type": "code",
   "execution_count": 13,
   "metadata": {},
   "outputs": [],
   "source": [
    "variant_info = VARIANTS[variant]\n",
    "filename = variant_info[\"filename\"]\n",
    "dirname = f\"ml-{variant}\"\n",
    "zip_path = os.path.join(dirname + \".zip\")"
   ]
  },
  {
   "cell_type": "code",
   "execution_count": 16,
   "metadata": {},
   "outputs": [],
   "source": [
    "with urllib.request.urlopen(url) as r, open(zip_path, \"wb\") as f:\n",
    "    shutil.copyfileobj(r, f)\n",
    "with zipfile.ZipFile(zip_path, \"r\") as zf:\n",
    "    zf.extractall()"
   ]
  },
  {
   "cell_type": "code",
   "execution_count": 17,
   "metadata": {},
   "outputs": [
    {
     "ename": "FileNotFoundError",
     "evalue": "[Errno 2] No such file or directory: 'ml-100k.zip'",
     "output_type": "error",
     "traceback": [
      "\u001b[0;31m---------------------------------------------------------------------------\u001b[0m",
      "\u001b[0;31mFileNotFoundError\u001b[0m                         Traceback (most recent call last)",
      "Cell \u001b[0;32mIn[17], line 2\u001b[0m\n\u001b[1;32m      1\u001b[0m \u001b[38;5;66;03m# Remove zip file after extraction (optional)\u001b[39;00m\n\u001b[0;32m----> 2\u001b[0m \u001b[43mos\u001b[49m\u001b[38;5;241;43m.\u001b[39;49m\u001b[43mremove\u001b[49m\u001b[43m(\u001b[49m\u001b[43mzip_path\u001b[49m\u001b[43m)\u001b[49m\n",
      "\u001b[0;31mFileNotFoundError\u001b[0m: [Errno 2] No such file or directory: 'ml-100k.zip'"
     ]
    }
   ],
   "source": [
    "# Remove zip file after extraction (optional)\n",
    "os.remove(zip_path)"
   ]
  },
  {
   "cell_type": "code",
   "execution_count": 18,
   "metadata": {},
   "outputs": [],
   "source": [
    "csv_path = os.path.join(dirname, filename)"
   ]
  },
  {
   "cell_type": "code",
   "execution_count": 27,
   "metadata": {},
   "outputs": [],
   "source": [
    "names = [\"u_id\", \"i_id\", \"rating\", \"timestamp\"]\n",
    "dtype = {\"u_id\": np.uint32, \"i_id\": np.uint32, \"rating\": np.float64}\n",
    "\n",
    "df = pd.read_csv(\n",
    "    csv_path,\n",
    "    names=names,\n",
    "    dtype=dtype,\n",
    "    header=0,\n",
    "    sep=VARIANTS[variant][\"sep\"],\n",
    ")\n",
    "\n",
    "df.sort_values(by=\"u_id\", inplace=True)\n",
    "df.reset_index(drop=True, inplace=True)"
   ]
  },
  {
   "cell_type": "code",
   "execution_count": 31,
   "metadata": {},
   "outputs": [],
   "source": [
    "train = df.sample(frac=0.8, random_state=7)\n",
    "val = df.drop(train.index.tolist()).sample(frac=0.5, random_state=8)\n",
    "test = df.drop(train.index.tolist()).drop(val.index.tolist())"
   ]
  },
  {
   "cell_type": "code",
   "execution_count": 56,
   "metadata": {},
   "outputs": [],
   "source": [
    "# def fetch_ml_ratings(variant=\"100k\"):\n",
    "#     VARIANTS = {\n",
    "#         \"100k\": {\"filename\": \"u.data\", \"sep\": \"\\t\"},\n",
    "#         \"1m\": {\"filename\": \"ratings.dat\", \"sep\": r\"::\"},\n",
    "#         \"20m\": {\"filename\": \"ratings.csv\", \"sep\": \",\"},\n",
    "#     }\n",
    "\n",
    "#     if variant not in VARIANTS:\n",
    "#         raise ValueError(\n",
    "#             f\"Invalid variant: {variant}. Valid options are {list(VARIANTS.keys())}\"\n",
    "#         )\n",
    "\n",
    "#     variant_info = VARIANTS[variant]\n",
    "#     url = f\"http://files.grouplens.org/datasets/movielens/ml-{variant}.zip\"\n",
    "#     filename = variant_info[\"filename\"]\n",
    "#     dirname = f\"ml-{variant}\"\n",
    "#     zip_path = os.path.join(dirname + \".zip\")\n",
    "\n",
    "#     # Download and extract data\n",
    "#     print(\"Downloading ml-\" + variant + \" and unzipping ...\")\n",
    "#     with urllib.request.urlopen(url) as r, open(zip_path, \"wb\") as f:\n",
    "#         shutil.copyfileobj(r, f)\n",
    "#     with zipfile.ZipFile(zip_path, \"r\") as zf:\n",
    "#         zf.extractall()\n",
    "\n",
    "#     # Remove zip file after extraction (optional)\n",
    "#     os.remove(zip_path)\n",
    "\n",
    "#     # Construct data path based on variant\n",
    "#     csv_path = os.path.join(dirname, filename)\n",
    "\n",
    "#     # Load data using separate function (not shown here)\n",
    "#     df = _ml_ratings_csv_to_df(csv_path, variant)\n",
    "\n",
    "#     return df"
   ]
  },
  {
   "cell_type": "code",
   "execution_count": 51,
   "metadata": {},
   "outputs": [],
   "source": [
    "# def _ml_ratings_csv_to_df(csv_path, variant):\n",
    "#     names = [\"u_id\", \"i_id\", \"rating\", \"timestamp\"]\n",
    "#     dtype = {\"u_id\": np.uint32, \"i_id\": np.uint32, \"rating\": np.float64}\n",
    "\n",
    "#     def date_format(time):\n",
    "#         return datetime.datetime.fromtimestamp(float(time))\n",
    "\n",
    "#     df = pd.read_csv(\n",
    "#         csv_path,\n",
    "#         names=names,\n",
    "#         dtype=dtype,\n",
    "#         header=0,\n",
    "#         sep=VARIANTS[variant][\"sep\"],\n",
    "#         parse_dates=[\"timestamp\"],\n",
    "#         date_format=date_format,\n",
    "#         engine=\"python\",\n",
    "#     )\n",
    "\n",
    "#     df.sort_values(by=\"timestamp\", inplace=True)\n",
    "#     df.reset_index(drop=True, inplace=True)\n",
    "\n",
    "#     return df"
   ]
  }
 ],
 "metadata": {
  "kernelspec": {
   "display_name": ".venv",
   "language": "python",
   "name": "python3"
  },
  "language_info": {
   "codemirror_mode": {
    "name": "ipython",
    "version": 3
   },
   "file_extension": ".py",
   "mimetype": "text/x-python",
   "name": "python",
   "nbconvert_exporter": "python",
   "pygments_lexer": "ipython3",
   "version": "3.12.3"
  }
 },
 "nbformat": 4,
 "nbformat_minor": 2
}
